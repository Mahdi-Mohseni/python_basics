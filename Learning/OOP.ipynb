{
 "cells": [
  {
   "cell_type": "markdown",
   "id": "a8fee8b8",
   "metadata": {},
   "source": [
    "# Object-Oriented Programming"
   ]
  },
  {
   "cell_type": "code",
   "execution_count": 2,
   "id": "9a826bd0",
   "metadata": {},
   "outputs": [],
   "source": [
    "# Define a class\n",
    "\n",
    "class Person:\n",
    "\n",
    "    # Class variable\n",
    "    count = 0 # This variable is for this class and it is global for all objects inside this class\n",
    "\n",
    "    # Define method - all functions inside a class called method\n",
    "    def __init__(self, name, age): # We define an object with this function. name and age are required for every object\n",
    "        self.name = name # This is an object variable - it's a variable that belongs to the object\n",
    "        self.age = age\n",
    "    \n",
    "    # Define some methods to give us information about the object\n",
    "    def get_name(self): # If your method works for the object, You should write \"self\" in the arguman\n",
    "        print (\"name is\", self.name)\n",
    "    \n"
   ]
  },
  {
   "cell_type": "code",
   "execution_count": 5,
   "id": "911513ca",
   "metadata": {},
   "outputs": [
    {
     "name": "stdout",
     "output_type": "stream",
     "text": [
      "name is Amoo\n"
     ]
    }
   ],
   "source": [
    "# Define an object with class Person\n",
    "amoo = Person('Amoo', 25)\n",
    "\n",
    "amoo.get_name()"
   ]
  },
  {
   "cell_type": "code",
   "execution_count": null,
   "id": "27f3855e",
   "metadata": {},
   "outputs": [],
   "source": []
  }
 ],
 "metadata": {
  "kernelspec": {
   "display_name": "base",
   "language": "python",
   "name": "python3"
  },
  "language_info": {
   "codemirror_mode": {
    "name": "ipython",
    "version": 3
   },
   "file_extension": ".py",
   "mimetype": "text/x-python",
   "name": "python",
   "nbconvert_exporter": "python",
   "pygments_lexer": "ipython3",
   "version": "3.10.9"
  }
 },
 "nbformat": 4,
 "nbformat_minor": 5
}
