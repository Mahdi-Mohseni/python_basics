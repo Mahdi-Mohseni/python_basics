{
 "cells": [
  {
   "cell_type": "markdown",
   "id": "a8fee8b8",
   "metadata": {},
   "source": [
    "# Object-Oriented Programming"
   ]
  },
  {
   "cell_type": "code",
   "execution_count": 1,
   "id": "9a826bd0",
   "metadata": {},
   "outputs": [],
   "source": [
    "# Define a class\n",
    "\n",
    "class Person:\n",
    "\n",
    "    # Class variable\n",
    "    count = 0 # This variable is for this class and it is global for all objects inside this class\n",
    "\n",
    "    # Define method - all functions inside a class called method\n",
    "    # It's a constructor\n",
    "    def __init__(self, name, age): # We define an object with this function. name and age are required for every object\n",
    "        self.name = name # This is an object variable - it's a variable that belongs to the object\n",
    "        self.age = age\n",
    "        Person.count = Person.count + 1 # Every time an object added, count will increase by 1\n",
    "    \n",
    "    # Define some methods to give us information about the object\n",
    "    def get_name(self): # If your method works for the object, You should write \"self\" in the arguman\n",
    "        print (\"name is\", self.name)\n",
    "\n",
    "    # Define a distructor\n",
    "    def __del__ (self): # when use del in python this function will called\n",
    "        Person.count = Person.count - 1\n",
    "        \n",
    "    def population ():\n",
    "        return (Person.count)\n",
    "\n",
    "class Student(Person): # It means Student is a Person too.\n",
    "    # You can define __init__ for it or use __init__ of Person.\n",
    "\n",
    "    # All methods of Person is available for Student but you can overwrite them if you want\n",
    "    # Example of overwrite\n",
    "    def get_name(self):\n",
    "        return super().get_name() + \" (Student)\"\n",
    "    \n",
    "    # Define new methods \n",
    "    def average_grade (self):\n",
    "        s = 0\n",
    "        for i in self.grades:\n",
    "            s = s+i\n",
    "        return s/len(self.grades)\n",
    "\n",
    "    \n"
   ]
  },
  {
   "cell_type": "code",
   "execution_count": 2,
   "id": "911513ca",
   "metadata": {},
   "outputs": [
    {
     "name": "stdout",
     "output_type": "stream",
     "text": [
      "name is Amoo\n",
      "1\n",
      "4\n"
     ]
    }
   ],
   "source": [
    "# Define an object with class Person\n",
    "amoo = Person('Amoo', 25)\n",
    "amoo.get_name()\n",
    "print(Person.population())\n",
    "\n",
    "\n",
    "# Add some people\n",
    "zoro = Person('Ahmad', 23)\n",
    "straw_hat = Person('Mokey D. Luffy', 20)\n",
    "Mehrab = Student(name= 'Mehrab', age=26)\n",
    "print(Person.population())"
   ]
  },
  {
   "cell_type": "code",
   "execution_count": 3,
   "id": "27f3855e",
   "metadata": {},
   "outputs": [
    {
     "data": {
      "text/plain": [
       "16.0"
      ]
     },
     "execution_count": 3,
     "metadata": {},
     "output_type": "execute_result"
    }
   ],
   "source": [
    "Mehrab.grades = [12, 16, 20] # greades is not initiate in student class but it works!!\n",
    "Mehrab.average_grade()"
   ]
  },
  {
   "cell_type": "code",
   "execution_count": 4,
   "id": "4ee335b4",
   "metadata": {},
   "outputs": [
    {
     "data": {
      "text/plain": [
       "3"
      ]
     },
     "execution_count": 4,
     "metadata": {},
     "output_type": "execute_result"
    }
   ],
   "source": [
    "del Mehrab\n",
    "Person.population()"
   ]
  }
 ],
 "metadata": {
  "kernelspec": {
   "display_name": "base",
   "language": "python",
   "name": "python3"
  },
  "language_info": {
   "codemirror_mode": {
    "name": "ipython",
    "version": 3
   },
   "file_extension": ".py",
   "mimetype": "text/x-python",
   "name": "python",
   "nbconvert_exporter": "python",
   "pygments_lexer": "ipython3",
   "version": "3.10.9"
  }
 },
 "nbformat": 4,
 "nbformat_minor": 5
}
