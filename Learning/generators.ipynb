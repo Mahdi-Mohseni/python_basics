{
 "cells": [
  {
   "cell_type": "markdown",
   "id": "0f304aaf",
   "metadata": {},
   "source": [
    "# Generator\n"
   ]
  },
  {
   "cell_type": "markdown",
   "id": "410480ae",
   "metadata": {},
   "source": [
    "- just like a function (just use yield instead of return)\n",
    "- it only can be used in loops\n",
    "- it remembers its last state\n",
    "- better usage of memory"
   ]
  },
  {
   "cell_type": "code",
   "execution_count": 1,
   "id": "de6ea5f9",
   "metadata": {},
   "outputs": [],
   "source": [
    "def firstn (n):\n",
    "    num = 0\n",
    "    while num<n:\n",
    "        yield num\n",
    "        num = num + 1"
   ]
  },
  {
   "cell_type": "code",
   "execution_count": 2,
   "id": "2dbcdcfe",
   "metadata": {},
   "outputs": [
    {
     "name": "stdout",
     "output_type": "stream",
     "text": [
      "0\n",
      "1\n",
      "2\n",
      "3\n",
      "4\n"
     ]
    }
   ],
   "source": [
    "for i in firstn(5):\n",
    "    print(i)"
   ]
  },
  {
   "cell_type": "code",
   "execution_count": 3,
   "id": "7aad4b25",
   "metadata": {},
   "outputs": [],
   "source": [
    "def elements (n: int):\n",
    "    counter = 1\n",
    "    while counter <= n:\n",
    "        if n%counter == 0:\n",
    "            yield counter\n",
    "        counter = counter + 1"
   ]
  },
  {
   "cell_type": "code",
   "execution_count": 4,
   "id": "0e929c20",
   "metadata": {},
   "outputs": [
    {
     "name": "stdout",
     "output_type": "stream",
     "text": [
      "1\n",
      "3\n",
      "5\n",
      "15\n"
     ]
    }
   ],
   "source": [
    "for i in elements(15):\n",
    "    print (i)"
   ]
  },
  {
   "cell_type": "code",
   "execution_count": 11,
   "id": "5b506eb6",
   "metadata": {},
   "outputs": [
    {
     "data": {
      "text/plain": [
       "[1, 2, 3, 4, 6, 8, 12, 24]"
      ]
     },
     "execution_count": 11,
     "metadata": {},
     "output_type": "execute_result"
    }
   ],
   "source": [
    "list(elements(24))"
   ]
  },
  {
   "cell_type": "code",
   "execution_count": 12,
   "id": "c8858184",
   "metadata": {},
   "outputs": [
    {
     "data": {
      "text/plain": [
       "[5, 10, 15, 20, 30, 40, 60, 120]"
      ]
     },
     "execution_count": 12,
     "metadata": {},
     "output_type": "execute_result"
    }
   ],
   "source": [
    "list(map(lambda x: x*5, elements(24)))"
   ]
  },
  {
   "cell_type": "markdown",
   "id": "a72d5e87",
   "metadata": {},
   "source": [
    "Super awesome!"
   ]
  }
 ],
 "metadata": {
  "kernelspec": {
   "display_name": "base",
   "language": "python",
   "name": "python3"
  },
  "language_info": {
   "codemirror_mode": {
    "name": "ipython",
    "version": 3
   },
   "file_extension": ".py",
   "mimetype": "text/x-python",
   "name": "python",
   "nbconvert_exporter": "python",
   "pygments_lexer": "ipython3",
   "version": "3.10.9"
  }
 },
 "nbformat": 4,
 "nbformat_minor": 5
}
