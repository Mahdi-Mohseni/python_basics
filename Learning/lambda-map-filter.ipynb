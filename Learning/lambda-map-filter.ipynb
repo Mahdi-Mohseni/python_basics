{
 "cells": [
  {
   "cell_type": "markdown",
   "id": "dc38206b",
   "metadata": {},
   "source": [
    "# Lambda"
   ]
  },
  {
   "cell_type": "markdown",
   "id": "2379c1ac",
   "metadata": {},
   "source": [
    "Make functions in one line"
   ]
  },
  {
   "cell_type": "code",
   "execution_count": 2,
   "id": "66d3f7d2",
   "metadata": {},
   "outputs": [
    {
     "data": {
      "text/plain": [
       "<function __main__.<lambda>(x)>"
      ]
     },
     "execution_count": 2,
     "metadata": {},
     "output_type": "execute_result"
    }
   ],
   "source": [
    "lambda x: x+10"
   ]
  },
  {
   "cell_type": "code",
   "execution_count": 4,
   "id": "1af9cd49",
   "metadata": {},
   "outputs": [],
   "source": [
    "my_function = lambda x: x[1]"
   ]
  },
  {
   "cell_type": "code",
   "execution_count": 8,
   "id": "492432ba",
   "metadata": {},
   "outputs": [
    {
     "data": {
      "text/plain": [
       "[(1, 3, 5), (2, 6, 1), (4, 4, 10)]"
      ]
     },
     "execution_count": 8,
     "metadata": {},
     "output_type": "execute_result"
    }
   ],
   "source": [
    "a = [(1, 3, 5), (4, 4, 10), (2, 6, 1)]\n",
    "a.sort()\n",
    "a"
   ]
  },
  {
   "cell_type": "code",
   "execution_count": null,
   "id": "3a8d0a76",
   "metadata": {},
   "outputs": [
    {
     "data": {
      "text/plain": [
       "[(1, 3, 5), (4, 4, 10), (2, 6, 1)]"
      ]
     },
     "execution_count": 9,
     "metadata": {},
     "output_type": "execute_result"
    }
   ],
   "source": [
    "# sort based on third arguman\n",
    "\n",
    "a = [(1, 3, 5), (4, 4, 10), (2, 6, 1)]\n",
    "a.sort(key= my_function)\n",
    "a"
   ]
  },
  {
   "cell_type": "markdown",
   "id": "c52fd971",
   "metadata": {},
   "source": [
    "# Map"
   ]
  },
  {
   "cell_type": "markdown",
   "id": "a418b0a6",
   "metadata": {},
   "source": [
    "map(func, *iterables) --> map object"
   ]
  },
  {
   "cell_type": "code",
   "execution_count": 10,
   "metadata": {},
   "outputs": [
    {
     "data": {
      "text/plain": [
       "[22, 12, 18, 11]"
      ]
     },
     "execution_count": 10,
     "metadata": {},
     "output_type": "execute_result"
    }
   ],
   "source": [
    "list (map(lambda x: x+10, [12, 2, 8, 1]))"
   ]
  },
  {
   "cell_type": "code",
   "execution_count": 11,
   "id": "f871ab25",
   "metadata": {},
   "outputs": [
    {
     "data": {
      "text/plain": [
       "[144, 4, 64, 1]"
      ]
     },
     "execution_count": 11,
     "metadata": {},
     "output_type": "execute_result"
    }
   ],
   "source": [
    "list (map(lambda x: x**2, [12, 2, 8, 1]))"
   ]
  },
  {
   "cell_type": "code",
   "execution_count": 12,
   "id": "bb5d8759",
   "metadata": {},
   "outputs": [
    {
     "data": {
      "text/plain": [
       "['zoj', 'zoj', 'zoj', 'fard']"
      ]
     },
     "execution_count": 12,
     "metadata": {},
     "output_type": "execute_result"
    }
   ],
   "source": [
    "# in-line if statement\n",
    "\n",
    "list (map(lambda x: 'zoj' if x%2 == 0 else 'fard', [12, 2, 8, 1]))"
   ]
  },
  {
   "cell_type": "code",
   "execution_count": null,
   "id": "1bc9f0e2",
   "metadata": {},
   "outputs": [],
   "source": []
  }
 ],
 "metadata": {
  "kernelspec": {
   "display_name": "base",
   "language": "python",
   "name": "python3"
  },
  "language_info": {
   "codemirror_mode": {
    "name": "ipython",
    "version": 3
   },
   "file_extension": ".py",
   "mimetype": "text/x-python",
   "name": "python",
   "nbconvert_exporter": "python",
   "pygments_lexer": "ipython3",
   "version": "3.10.9"
  }
 },
 "nbformat": 4,
 "nbformat_minor": 5
}
